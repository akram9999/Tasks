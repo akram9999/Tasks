{
 "cells": [
  {
   "cell_type": "markdown",
   "id": "26607421",
   "metadata": {},
   "source": [
    "#create comperehinsive list that sum even numbers only from input number to another number and this numbers users will enter it"
   ]
  },
  {
   "cell_type": "code",
   "execution_count": 29,
   "id": "93198779",
   "metadata": {},
   "outputs": [
    {
     "name": "stdout",
     "output_type": "stream",
     "text": [
      "enter number of input values: 10\n",
      "The Sum of even Numbers:  20\n"
     ]
    }
   ],
   "source": [
    "The_Numbers = int(input(\"enter number of input values: \"))\n",
    "my_listt=[x for x in range (The_Numbers) if x %2 ==0]\n",
    "print(\"The Sum of even Numbers: \" , sum(my_listt))"
   ]
  },
  {
   "cell_type": "markdown",
   "id": "213c9aac",
   "metadata": {},
   "source": [
    "##Find Largest and Smallest Numbers in a List using comprehensive list"
   ]
  },
  {
   "cell_type": "code",
   "execution_count": 30,
   "id": "7db8fdca",
   "metadata": {},
   "outputs": [
    {
     "ename": "SyntaxError",
     "evalue": "invalid syntax (462592682.py, line 2)",
     "output_type": "error",
     "traceback": [
      "\u001b[1;36m  Cell \u001b[1;32mIn[30], line 2\u001b[1;36m\u001b[0m\n\u001b[1;33m    my_list=[x for x in range (20) if print(max(x)) else None  print(min(x))]\u001b[0m\n\u001b[1;37m                                                    ^\u001b[0m\n\u001b[1;31mSyntaxError\u001b[0m\u001b[1;31m:\u001b[0m invalid syntax\n"
     ]
    }
   ],
   "source": [
    "##num_count = int(input(\"enter number of input values: \"))\n",
    "my_list=[x for x in range (20) if print(max(x)) else None  print(min(x))]"
   ]
  },
  {
   "cell_type": "markdown",
   "id": "67258c0b",
   "metadata": {},
   "source": [
    "###Count Occurrences of a Character in a String"
   ]
  },
  {
   "cell_type": "code",
   "execution_count": 4,
   "id": "d3913bbc",
   "metadata": {},
   "outputs": [
    {
     "name": "stdout",
     "output_type": "stream",
     "text": [
      " Number of Occurrences Of A:  2\n"
     ]
    }
   ],
   "source": [
    "x= \"I love Amit Learning And Python\"\n",
    "print(\" Number of Occurrences Of A: \",x.count('A'))"
   ]
  },
  {
   "cell_type": "markdown",
   "id": "9a55a2a8",
   "metadata": {},
   "source": [
    "####Find Length of Longest Word in a Sentence\n"
   ]
  },
  {
   "cell_type": "code",
   "execution_count": 19,
   "id": "6b7161ad",
   "metadata": {},
   "outputs": [
    {
     "name": "stdout",
     "output_type": "stream",
     "text": [
      "Enter a String: amit learning\n",
      "Longest word:  learning\n"
     ]
    }
   ],
   "source": [
    "str = input(\"Enter a String: \")\n",
    "word_list = str.split()\n",
    "longest_word = max(word_list, key = len)\n",
    "print(\"Longest word: \",longest_word)"
   ]
  },
  {
   "cell_type": "markdown",
   "id": "ae762278",
   "metadata": {},
   "source": [
    "#####Sort a List of Numbers in Ascending and Descending Order\n"
   ]
  },
  {
   "cell_type": "code",
   "execution_count": 17,
   "id": "39eae253",
   "metadata": {},
   "outputs": [
    {
     "name": "stdout",
     "output_type": "stream",
     "text": [
      "[1, 6, 8, 10]\n",
      "[10, 8, 6, 1]\n"
     ]
    }
   ],
   "source": [
    "y= [1, 10, 8, 6]\n",
    "y.sort() #Ascending\n",
    "print(y)\n",
    "y.sort(reverse = True)#Descending\n",
    "print(y)"
   ]
  },
  {
   "cell_type": "code",
   "execution_count": null,
   "id": "66d3b3f6",
   "metadata": {},
   "outputs": [],
   "source": []
  }
 ],
 "metadata": {
  "kernelspec": {
   "display_name": "Python 3 (ipykernel)",
   "language": "python",
   "name": "python3"
  },
  "language_info": {
   "codemirror_mode": {
    "name": "ipython",
    "version": 3
   },
   "file_extension": ".py",
   "mimetype": "text/x-python",
   "name": "python",
   "nbconvert_exporter": "python",
   "pygments_lexer": "ipython3",
   "version": "3.10.9"
  }
 },
 "nbformat": 4,
 "nbformat_minor": 5
}
